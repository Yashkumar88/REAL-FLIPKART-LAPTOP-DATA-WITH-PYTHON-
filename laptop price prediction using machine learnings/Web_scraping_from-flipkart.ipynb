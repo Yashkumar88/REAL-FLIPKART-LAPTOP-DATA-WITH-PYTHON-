{
 "cells": [
  {
   "cell_type": "markdown",
   "id": "81a8d91b",
   "metadata": {},
   "source": [
    "# library's"
   ]
  },
  {
   "cell_type": "code",
   "execution_count": 8,
   "id": "de5308eb",
   "metadata": {},
   "outputs": [],
   "source": [
    "from urllib.request import urlopen\n",
    "from bs4 import BeautifulSoup as soup"
   ]
  },
  {
   "cell_type": "code",
   "execution_count": 9,
   "id": "e3f6e4e2",
   "metadata": {},
   "outputs": [],
   "source": [
    "import pandas as pd\n",
    "import numpy as np"
   ]
  },
  {
   "cell_type": "code",
   "execution_count": 10,
   "id": "a15ef325",
   "metadata": {},
   "outputs": [],
   "source": [
    "https =urlopen('https://www.flipkart.com/laptops/~laptops-under-rs50000/pr?sid=6bo%2Cb5g%27')\n",
    "webdata=https.read()\n"
   ]
  },
  {
   "cell_type": "code",
   "execution_count": 11,
   "id": "388ff325",
   "metadata": {},
   "outputs": [],
   "source": [
    "soup1 =soup(webdata)"
   ]
  },
  {
   "cell_type": "code",
   "execution_count": 5,
   "id": "111f3313",
   "metadata": {},
   "outputs": [
    {
     "data": {
      "text/plain": [
       "10"
      ]
     },
     "execution_count": 5,
     "metadata": {},
     "output_type": "execute_result"
    }
   ],
   "source": [
    "len(soupdata.findAll('a',{'class':'ge-49M'}))"
   ]
  },
  {
   "cell_type": "code",
   "execution_count": 12,
   "id": "1e0ce5d9",
   "metadata": {},
   "outputs": [],
   "source": [
    "pages_links =soup1.findAll('a',{'class':'ge-49M'})\n",
    "domain='https://www.flipkart.com/laptops/~laptops-under-rs50000/pr?sid=6bo%2Cb5g%27&page='\n",
    "for i in range(2,20):\n",
    "    link=domain+str(i)  # concatenations\n",
    "    pages_data=urlopen(link)\n",
    "    webdata1=pages_data.read()\n",
    "    webdata+=webdata1\n",
    "    soupdata =soup(webdata,'html.parser')"
   ]
  },
  {
   "cell_type": "code",
   "execution_count": 13,
   "id": "17948948",
   "metadata": {},
   "outputs": [
    {
     "name": "stdout",
     "output_type": "stream",
     "text": [
      "446\n"
     ]
    }
   ],
   "source": [
    "#Soup = soup(soupdata)\n",
    "container =soupdata.findAll('div',{'class':'_2kHMtA'})\n",
    "print(len(container))"
   ]
  },
  {
   "cell_type": "code",
   "execution_count": 14,
   "id": "9fceaac4",
   "metadata": {},
   "outputs": [],
   "source": [
    "import re"
   ]
  },
  {
   "cell_type": "markdown",
   "id": "bbc64dfc",
   "metadata": {},
   "source": [
    "## ProductName"
   ]
  },
  {
   "cell_type": "code",
   "execution_count": 15,
   "id": "44d90cae",
   "metadata": {},
   "outputs": [],
   "source": [
    "ProductName=[]\n",
    "for i in container:\n",
    "    pr =i.find('div',{'class':'_4rR01T'}).text[0:10]\n",
    "    #print(pr.text[0:10])\n",
    "    try:\n",
    "        ProductName.append(re.findall('HP|AXL|realme|MSI|ASUS|Lenovo|APPLE|Redmi|DELL|acer|realme|LG|Mi|Nokia',pr)[0])\n",
    "        #print(ProductName)\n",
    "    except:\n",
    "        ProductName.append('other_brand')\n",
    "        #print(ProductName)"
   ]
  },
  {
   "cell_type": "markdown",
   "id": "4d780b31",
   "metadata": {},
   "source": [
    "# star ratings"
   ]
  },
  {
   "cell_type": "code",
   "execution_count": 19,
   "id": "48641346",
   "metadata": {},
   "outputs": [],
   "source": [
    "star = []\n",
    "for i in container:\n",
    "    pr=i.find('div',{'class':'_3LWZlK'})\n",
    "    try:\n",
    "        star.append(pr.text)\n",
    "    except:\n",
    "        star.append('4')\n"
   ]
  },
  {
   "cell_type": "markdown",
   "id": "29d1119f",
   "metadata": {},
   "source": [
    "# Rating and review"
   ]
  },
  {
   "cell_type": "code",
   "execution_count": 29,
   "id": "1f262e1c",
   "metadata": {},
   "outputs": [],
   "source": [
    "Rating=[]\n",
    "Review=[]\n",
    "for i in container:\n",
    "    pr=i.find('span',{'class':'_2_R_DZ'})\n",
    "    try:\n",
    "        Ra=(re.findall('\\d+,?\\d*',pr.text))\n",
    "        Rating.append(Ra[0])\n",
    "        Review.append(Ra[1])\n",
    "    except:\n",
    "        Rating.append(0)\n",
    "        Review.append(1)\n",
    "        \n",
    "        \n"
   ]
  },
  {
   "cell_type": "markdown",
   "id": "cb4ceb28",
   "metadata": {},
   "source": [
    "# cpu"
   ]
  },
  {
   "cell_type": "code",
   "execution_count": 31,
   "id": "d0114f00",
   "metadata": {},
   "outputs": [],
   "source": [
    "cpu =[]\n",
    "for i in container:\n",
    "    info =i.findAll('li',{'class':'rgWa7D'})\n",
    "    processors = info[0].text\n",
    "    #print(processors)\n",
    "    try:\n",
    "        cpu.append(re.findall('i\\d|M\\d|Ryzen|Celeron|Athlon',processors)[0])\n",
    "    except:\n",
    "        cpu.append('local_processors')"
   ]
  },
  {
   "cell_type": "markdown",
   "id": "968cc4d7",
   "metadata": {},
   "source": [
    "## ram"
   ]
  },
  {
   "cell_type": "code",
   "execution_count": 34,
   "id": "072bc90d",
   "metadata": {},
   "outputs": [],
   "source": [
    "ram=[]\n",
    "for i in container:\n",
    "    info =i.findAll('li',{'class':'rgWa7D'})\n",
    "    r1 =info[1].text\n",
    "    try:\n",
    "        ram.append(re.findall('[\\d]* GB',r1)[0].replace('GB',''))\n",
    "    except:\n",
    "        ram.append(2)"
   ]
  },
  {
   "cell_type": "markdown",
   "id": "3a2f92c7",
   "metadata": {},
   "source": [
    "# storage"
   ]
  },
  {
   "cell_type": "code",
   "execution_count": 35,
   "id": "1b21d277",
   "metadata": {},
   "outputs": [],
   "source": [
    "storage =[]\n",
    "for i in container:\n",
    "    info =i.findAll('li',{'class':'rgWa7D'})\n",
    "    s1=info[3].text\n",
    "    try:\n",
    "        storage.append(re.findall('[\\d]* GB SSD',s1)[0].replace('GB SSD',''))\n",
    "    except:\n",
    "        storage.append(250)"
   ]
  },
  {
   "cell_type": "markdown",
   "id": "623cbe7d",
   "metadata": {},
   "source": [
    "## size"
   ]
  },
  {
   "cell_type": "code",
   "execution_count": 36,
   "id": "c7c926d6",
   "metadata": {},
   "outputs": [],
   "source": [
    "size = []\n",
    "for i in container:\n",
    "    info =i.findAll('li',{'class':'rgWa7D'})\n",
    "    s1=info[4].text\n",
    "    try:\n",
    "        size.append(re.findall('[\\d.\\d]* cm',s1)[0].replace('cm',''))\n",
    "        \n",
    "    except:\n",
    "        size.append(12.44)"
   ]
  },
  {
   "cell_type": "markdown",
   "id": "3f9539c1",
   "metadata": {},
   "source": [
    "# actual_price"
   ]
  },
  {
   "cell_type": "code",
   "execution_count": 37,
   "id": "822f7036",
   "metadata": {},
   "outputs": [],
   "source": [
    "actual_price =[]\n",
    "for i in container:\n",
    "    price =i.find('div',{'class':'_3I9_wc _27UcVY'}).text\n",
    "    try:\n",
    "        actual_price.append(re.findall('\\d+,?\\d*',price)[0].replace('₹','').replace(',',''))\n",
    "       \n",
    "    except:\n",
    "        actual_price.append(50000)"
   ]
  },
  {
   "cell_type": "markdown",
   "id": "840aeb37",
   "metadata": {},
   "source": [
    "# flip_site_offer"
   ]
  },
  {
   "cell_type": "code",
   "execution_count": 38,
   "id": "edce2cd7",
   "metadata": {},
   "outputs": [],
   "source": [
    "flipkart_offer =[]\n",
    "for i in container:\n",
    "    price =i.find('div',{'class':'_30jeq3 _1_WHN1'}).text\n",
    "    try:\n",
    "        flipkart_offer.append(re.findall('\\d+,?\\d*',price)[0].replace('₹','').replace(',',''))\n",
    "       \n",
    "    except:\n",
    "        flipkart_offer.append(50000)"
   ]
  },
  {
   "cell_type": "markdown",
   "id": "5480f0ce",
   "metadata": {},
   "source": [
    "## data frame"
   ]
  },
  {
   "cell_type": "code",
   "execution_count": 39,
   "id": "2a02ca05",
   "metadata": {},
   "outputs": [
    {
     "data": {
      "text/html": [
       "<div>\n",
       "<style scoped>\n",
       "    .dataframe tbody tr th:only-of-type {\n",
       "        vertical-align: middle;\n",
       "    }\n",
       "\n",
       "    .dataframe tbody tr th {\n",
       "        vertical-align: top;\n",
       "    }\n",
       "\n",
       "    .dataframe thead th {\n",
       "        text-align: right;\n",
       "    }\n",
       "</style>\n",
       "<table border=\"1\" class=\"dataframe\">\n",
       "  <thead>\n",
       "    <tr style=\"text-align: right;\">\n",
       "      <th></th>\n",
       "      <th>ProductName</th>\n",
       "      <th>stars</th>\n",
       "      <th>Rating</th>\n",
       "      <th>Reviews</th>\n",
       "      <th>CPU</th>\n",
       "      <th>Ram</th>\n",
       "      <th>storage</th>\n",
       "      <th>size</th>\n",
       "      <th>actual_price</th>\n",
       "      <th>flipkart_offer</th>\n",
       "    </tr>\n",
       "  </thead>\n",
       "  <tbody>\n",
       "    <tr>\n",
       "      <th>0</th>\n",
       "      <td>ASUS</td>\n",
       "      <td>4.2</td>\n",
       "      <td>258</td>\n",
       "      <td>24</td>\n",
       "      <td>Celeron</td>\n",
       "      <td>4</td>\n",
       "      <td>128</td>\n",
       "      <td>29.46</td>\n",
       "      <td>30990</td>\n",
       "      <td>20990</td>\n",
       "    </tr>\n",
       "    <tr>\n",
       "      <th>1</th>\n",
       "      <td>ASUS</td>\n",
       "      <td>3.6</td>\n",
       "      <td>11</td>\n",
       "      <td>1</td>\n",
       "      <td>i3</td>\n",
       "      <td>8</td>\n",
       "      <td>512</td>\n",
       "      <td>39.62</td>\n",
       "      <td>51990</td>\n",
       "      <td>38236</td>\n",
       "    </tr>\n",
       "    <tr>\n",
       "      <th>2</th>\n",
       "      <td>ASUS</td>\n",
       "      <td>4.2</td>\n",
       "      <td>2,860</td>\n",
       "      <td>278</td>\n",
       "      <td>i3</td>\n",
       "      <td>8</td>\n",
       "      <td>512</td>\n",
       "      <td>39.62</td>\n",
       "      <td>56990</td>\n",
       "      <td>34990</td>\n",
       "    </tr>\n",
       "    <tr>\n",
       "      <th>3</th>\n",
       "      <td>Lenovo</td>\n",
       "      <td>4.1</td>\n",
       "      <td>1,392</td>\n",
       "      <td>151</td>\n",
       "      <td>Celeron</td>\n",
       "      <td>8</td>\n",
       "      <td>256</td>\n",
       "      <td>39.62</td>\n",
       "      <td>46090</td>\n",
       "      <td>26989</td>\n",
       "    </tr>\n",
       "    <tr>\n",
       "      <th>4</th>\n",
       "      <td>Lenovo</td>\n",
       "      <td>4.3</td>\n",
       "      <td>5,381</td>\n",
       "      <td>510</td>\n",
       "      <td>i3</td>\n",
       "      <td>8</td>\n",
       "      <td>512</td>\n",
       "      <td>39.62</td>\n",
       "      <td>55490</td>\n",
       "      <td>36950</td>\n",
       "    </tr>\n",
       "    <tr>\n",
       "      <th>...</th>\n",
       "      <td>...</td>\n",
       "      <td>...</td>\n",
       "      <td>...</td>\n",
       "      <td>...</td>\n",
       "      <td>...</td>\n",
       "      <td>...</td>\n",
       "      <td>...</td>\n",
       "      <td>...</td>\n",
       "      <td>...</td>\n",
       "      <td>...</td>\n",
       "    </tr>\n",
       "    <tr>\n",
       "      <th>441</th>\n",
       "      <td>other_brand</td>\n",
       "      <td>4.7</td>\n",
       "      <td>15</td>\n",
       "      <td>4</td>\n",
       "      <td>i7</td>\n",
       "      <td>16</td>\n",
       "      <td>512</td>\n",
       "      <td>35.56</td>\n",
       "      <td>69990</td>\n",
       "      <td>48990</td>\n",
       "    </tr>\n",
       "    <tr>\n",
       "      <th>442</th>\n",
       "      <td>HP</td>\n",
       "      <td>3.3</td>\n",
       "      <td>14</td>\n",
       "      <td>1</td>\n",
       "      <td>Celeron</td>\n",
       "      <td>4</td>\n",
       "      <td>250</td>\n",
       "      <td>12.44</td>\n",
       "      <td>33390</td>\n",
       "      <td>21990</td>\n",
       "    </tr>\n",
       "    <tr>\n",
       "      <th>443</th>\n",
       "      <td>HP</td>\n",
       "      <td>4</td>\n",
       "      <td>0</td>\n",
       "      <td>1</td>\n",
       "      <td>i5</td>\n",
       "      <td>8</td>\n",
       "      <td>512</td>\n",
       "      <td>39.62</td>\n",
       "      <td>76800</td>\n",
       "      <td>49000</td>\n",
       "    </tr>\n",
       "    <tr>\n",
       "      <th>444</th>\n",
       "      <td>ASUS</td>\n",
       "      <td>5</td>\n",
       "      <td>5</td>\n",
       "      <td>2</td>\n",
       "      <td>i5</td>\n",
       "      <td>8</td>\n",
       "      <td>256</td>\n",
       "      <td>35.56</td>\n",
       "      <td>66990</td>\n",
       "      <td>46990</td>\n",
       "    </tr>\n",
       "    <tr>\n",
       "      <th>445</th>\n",
       "      <td>ASUS</td>\n",
       "      <td>4</td>\n",
       "      <td>0</td>\n",
       "      <td>1</td>\n",
       "      <td>i3</td>\n",
       "      <td>8</td>\n",
       "      <td>512</td>\n",
       "      <td>39.62</td>\n",
       "      <td>49990</td>\n",
       "      <td>39500</td>\n",
       "    </tr>\n",
       "  </tbody>\n",
       "</table>\n",
       "<p>446 rows × 10 columns</p>\n",
       "</div>"
      ],
      "text/plain": [
       "     ProductName stars Rating Reviews      CPU  Ram storage    size  \\\n",
       "0           ASUS   4.2    258      24  Celeron   4     128   29.46    \n",
       "1           ASUS   3.6     11       1       i3   8     512   39.62    \n",
       "2           ASUS   4.2  2,860     278       i3   8     512   39.62    \n",
       "3         Lenovo   4.1  1,392     151  Celeron   8     256   39.62    \n",
       "4         Lenovo   4.3  5,381     510       i3   8     512   39.62    \n",
       "..           ...   ...    ...     ...      ...  ...     ...     ...   \n",
       "441  other_brand   4.7     15       4       i7  16     512   35.56    \n",
       "442           HP   3.3     14       1  Celeron   4      250   12.44   \n",
       "443           HP     4      0       1       i5   8     512   39.62    \n",
       "444         ASUS     5      5       2       i5   8     256   35.56    \n",
       "445         ASUS     4      0       1       i3   8     512   39.62    \n",
       "\n",
       "    actual_price flipkart_offer  \n",
       "0          30990          20990  \n",
       "1          51990          38236  \n",
       "2          56990          34990  \n",
       "3          46090          26989  \n",
       "4          55490          36950  \n",
       "..           ...            ...  \n",
       "441        69990          48990  \n",
       "442        33390          21990  \n",
       "443        76800          49000  \n",
       "444        66990          46990  \n",
       "445        49990          39500  \n",
       "\n",
       "[446 rows x 10 columns]"
      ]
     },
     "execution_count": 39,
     "metadata": {},
     "output_type": "execute_result"
    }
   ],
   "source": [
    "df =pd.DataFrame({'ProductName':ProductName,'stars':star,'Rating':Rating,'Reviews':Review,'CPU':cpu,'Ram':ram,'storage'\n",
    "                 :storage,'size':size,'actual_price':actual_price,'flipkart_offer':flipkart_offer})\n",
    "df"
   ]
  },
  {
   "cell_type": "markdown",
   "id": "a8128719",
   "metadata": {},
   "source": [
    "#  pandas dataframe to convert data into csv file"
   ]
  },
  {
   "cell_type": "code",
   "execution_count": 40,
   "id": "1ef26446",
   "metadata": {},
   "outputs": [],
   "source": [
    "df.to_csv('flipkart.csv')"
   ]
  },
  {
   "cell_type": "code",
   "execution_count": null,
   "id": "ac1607b2",
   "metadata": {},
   "outputs": [],
   "source": []
  }
 ],
 "metadata": {
  "kernelspec": {
   "display_name": "Python 3 (ipykernel)",
   "language": "python",
   "name": "python3"
  },
  "language_info": {
   "codemirror_mode": {
    "name": "ipython",
    "version": 3
   },
   "file_extension": ".py",
   "mimetype": "text/x-python",
   "name": "python",
   "nbconvert_exporter": "python",
   "pygments_lexer": "ipython3",
   "version": "3.9.16"
  }
 },
 "nbformat": 4,
 "nbformat_minor": 5
}
