{
 "cells": [
  {
   "cell_type": "code",
   "execution_count": 1,
   "id": "e06fda74",
   "metadata": {},
   "outputs": [],
   "source": [
    "import pandas as pd \n",
    "import numpy as np\n",
    "import matplotlib.pyplot as plt\n",
    "import seaborn as sns"
   ]
  },
  {
   "cell_type": "code",
   "execution_count": 2,
   "id": "db6a710a",
   "metadata": {},
   "outputs": [
    {
     "data": {
      "text/html": [
       "<div>\n",
       "<style scoped>\n",
       "    .dataframe tbody tr th:only-of-type {\n",
       "        vertical-align: middle;\n",
       "    }\n",
       "\n",
       "    .dataframe tbody tr th {\n",
       "        vertical-align: top;\n",
       "    }\n",
       "\n",
       "    .dataframe thead th {\n",
       "        text-align: right;\n",
       "    }\n",
       "</style>\n",
       "<table border=\"1\" class=\"dataframe\">\n",
       "  <thead>\n",
       "    <tr style=\"text-align: right;\">\n",
       "      <th></th>\n",
       "      <th>Unnamed: 0</th>\n",
       "      <th>ProductName</th>\n",
       "      <th>stars</th>\n",
       "      <th>Rating</th>\n",
       "      <th>Reviews</th>\n",
       "      <th>CPU</th>\n",
       "      <th>Ram</th>\n",
       "      <th>storage</th>\n",
       "      <th>size</th>\n",
       "      <th>actual_price</th>\n",
       "      <th>flipkart_offer</th>\n",
       "    </tr>\n",
       "  </thead>\n",
       "  <tbody>\n",
       "    <tr>\n",
       "      <th>0</th>\n",
       "      <td>0</td>\n",
       "      <td>ASUS</td>\n",
       "      <td>4.2</td>\n",
       "      <td>258</td>\n",
       "      <td>24</td>\n",
       "      <td>Celeron</td>\n",
       "      <td>4</td>\n",
       "      <td>128</td>\n",
       "      <td>29.46</td>\n",
       "      <td>30990</td>\n",
       "      <td>20990</td>\n",
       "    </tr>\n",
       "    <tr>\n",
       "      <th>1</th>\n",
       "      <td>1</td>\n",
       "      <td>ASUS</td>\n",
       "      <td>3.6</td>\n",
       "      <td>11</td>\n",
       "      <td>1</td>\n",
       "      <td>i3</td>\n",
       "      <td>8</td>\n",
       "      <td>512</td>\n",
       "      <td>39.62</td>\n",
       "      <td>51990</td>\n",
       "      <td>38236</td>\n",
       "    </tr>\n",
       "    <tr>\n",
       "      <th>2</th>\n",
       "      <td>2</td>\n",
       "      <td>ASUS</td>\n",
       "      <td>4.2</td>\n",
       "      <td>2,860</td>\n",
       "      <td>278</td>\n",
       "      <td>i3</td>\n",
       "      <td>8</td>\n",
       "      <td>512</td>\n",
       "      <td>39.62</td>\n",
       "      <td>56990</td>\n",
       "      <td>34990</td>\n",
       "    </tr>\n",
       "    <tr>\n",
       "      <th>3</th>\n",
       "      <td>3</td>\n",
       "      <td>Lenovo</td>\n",
       "      <td>4.1</td>\n",
       "      <td>1,392</td>\n",
       "      <td>151</td>\n",
       "      <td>Celeron</td>\n",
       "      <td>8</td>\n",
       "      <td>256</td>\n",
       "      <td>39.62</td>\n",
       "      <td>46090</td>\n",
       "      <td>26989</td>\n",
       "    </tr>\n",
       "    <tr>\n",
       "      <th>4</th>\n",
       "      <td>4</td>\n",
       "      <td>Lenovo</td>\n",
       "      <td>4.3</td>\n",
       "      <td>5,381</td>\n",
       "      <td>510</td>\n",
       "      <td>i3</td>\n",
       "      <td>8</td>\n",
       "      <td>512</td>\n",
       "      <td>39.62</td>\n",
       "      <td>55490</td>\n",
       "      <td>36950</td>\n",
       "    </tr>\n",
       "  </tbody>\n",
       "</table>\n",
       "</div>"
      ],
      "text/plain": [
       "   Unnamed: 0 ProductName  stars Rating Reviews      CPU  Ram  storage   size  \\\n",
       "0           0        ASUS    4.2    258      24  Celeron    4      128  29.46   \n",
       "1           1        ASUS    3.6     11       1       i3    8      512  39.62   \n",
       "2           2        ASUS    4.2  2,860     278       i3    8      512  39.62   \n",
       "3           3      Lenovo    4.1  1,392     151  Celeron    8      256  39.62   \n",
       "4           4      Lenovo    4.3  5,381     510       i3    8      512  39.62   \n",
       "\n",
       "   actual_price  flipkart_offer  \n",
       "0         30990           20990  \n",
       "1         51990           38236  \n",
       "2         56990           34990  \n",
       "3         46090           26989  \n",
       "4         55490           36950  "
      ]
     },
     "execution_count": 2,
     "metadata": {},
     "output_type": "execute_result"
    }
   ],
   "source": [
    "df =pd.read_csv('flipkart.csv')\n",
    "df.head()"
   ]
  },
  {
   "cell_type": "code",
   "execution_count": 3,
   "id": "63145547",
   "metadata": {},
   "outputs": [],
   "source": [
    "df=df.drop(['Unnamed: 0','Rating','Reviews'],axis=1)"
   ]
  },
  {
   "cell_type": "code",
   "execution_count": 4,
   "id": "fa104549",
   "metadata": {},
   "outputs": [
    {
     "data": {
      "text/html": [
       "<div>\n",
       "<style scoped>\n",
       "    .dataframe tbody tr th:only-of-type {\n",
       "        vertical-align: middle;\n",
       "    }\n",
       "\n",
       "    .dataframe tbody tr th {\n",
       "        vertical-align: top;\n",
       "    }\n",
       "\n",
       "    .dataframe thead th {\n",
       "        text-align: right;\n",
       "    }\n",
       "</style>\n",
       "<table border=\"1\" class=\"dataframe\">\n",
       "  <thead>\n",
       "    <tr style=\"text-align: right;\">\n",
       "      <th></th>\n",
       "      <th>ProductName</th>\n",
       "      <th>stars</th>\n",
       "      <th>CPU</th>\n",
       "      <th>Ram</th>\n",
       "      <th>storage</th>\n",
       "      <th>size</th>\n",
       "      <th>actual_price</th>\n",
       "      <th>flipkart_offer</th>\n",
       "    </tr>\n",
       "  </thead>\n",
       "  <tbody>\n",
       "    <tr>\n",
       "      <th>0</th>\n",
       "      <td>ASUS</td>\n",
       "      <td>4.2</td>\n",
       "      <td>Celeron</td>\n",
       "      <td>4</td>\n",
       "      <td>128</td>\n",
       "      <td>29.46</td>\n",
       "      <td>30990</td>\n",
       "      <td>20990</td>\n",
       "    </tr>\n",
       "    <tr>\n",
       "      <th>1</th>\n",
       "      <td>ASUS</td>\n",
       "      <td>3.6</td>\n",
       "      <td>i3</td>\n",
       "      <td>8</td>\n",
       "      <td>512</td>\n",
       "      <td>39.62</td>\n",
       "      <td>51990</td>\n",
       "      <td>38236</td>\n",
       "    </tr>\n",
       "    <tr>\n",
       "      <th>2</th>\n",
       "      <td>ASUS</td>\n",
       "      <td>4.2</td>\n",
       "      <td>i3</td>\n",
       "      <td>8</td>\n",
       "      <td>512</td>\n",
       "      <td>39.62</td>\n",
       "      <td>56990</td>\n",
       "      <td>34990</td>\n",
       "    </tr>\n",
       "    <tr>\n",
       "      <th>3</th>\n",
       "      <td>Lenovo</td>\n",
       "      <td>4.1</td>\n",
       "      <td>Celeron</td>\n",
       "      <td>8</td>\n",
       "      <td>256</td>\n",
       "      <td>39.62</td>\n",
       "      <td>46090</td>\n",
       "      <td>26989</td>\n",
       "    </tr>\n",
       "    <tr>\n",
       "      <th>4</th>\n",
       "      <td>Lenovo</td>\n",
       "      <td>4.3</td>\n",
       "      <td>i3</td>\n",
       "      <td>8</td>\n",
       "      <td>512</td>\n",
       "      <td>39.62</td>\n",
       "      <td>55490</td>\n",
       "      <td>36950</td>\n",
       "    </tr>\n",
       "  </tbody>\n",
       "</table>\n",
       "</div>"
      ],
      "text/plain": [
       "  ProductName  stars      CPU  Ram  storage   size  actual_price  \\\n",
       "0        ASUS    4.2  Celeron    4      128  29.46         30990   \n",
       "1        ASUS    3.6       i3    8      512  39.62         51990   \n",
       "2        ASUS    4.2       i3    8      512  39.62         56990   \n",
       "3      Lenovo    4.1  Celeron    8      256  39.62         46090   \n",
       "4      Lenovo    4.3       i3    8      512  39.62         55490   \n",
       "\n",
       "   flipkart_offer  \n",
       "0           20990  \n",
       "1           38236  \n",
       "2           34990  \n",
       "3           26989  \n",
       "4           36950  "
      ]
     },
     "execution_count": 4,
     "metadata": {},
     "output_type": "execute_result"
    }
   ],
   "source": [
    "df.head()"
   ]
  },
  {
   "cell_type": "code",
   "execution_count": 5,
   "id": "a258b28a",
   "metadata": {},
   "outputs": [],
   "source": [
    "import sys\n",
    "\n",
    "if not sys.warnoptions:\n",
    "    import warnings\n",
    "    warnings.simplefilter(\"ignore\")"
   ]
  },
  {
   "cell_type": "code",
   "execution_count": 6,
   "id": "56a40d0f",
   "metadata": {},
   "outputs": [
    {
     "data": {
      "text/plain": [
       "<AxesSubplot: xlabel='flipkart_offer', ylabel='Density'>"
      ]
     },
     "execution_count": 6,
     "metadata": {},
     "output_type": "execute_result"
    },
    {
     "data": {
      "image/png": "[encoded data removed]",
      "text/plain": [
       "<Figure size 640x480 with 1 Axes>"
      ]
     },
     "metadata": {},
     "output_type": "display_data"
    }
   ],
   "source": [
    "\n",
    "sns.distplot((np.square(df['flipkart_offer'])))"
   ]
  },
  {
   "cell_type": "code",
   "execution_count": 7,
   "id": "01b886b4",
   "metadata": {},
   "outputs": [
    {
     "data": {
      "text/plain": [
       "0      19.903603\n",
       "1      21.103066\n",
       "2      20.925635\n",
       "3      20.406369\n",
       "4      21.034642\n",
       "         ...    \n",
       "441    21.598743\n",
       "442    19.996686\n",
       "443    21.599151\n",
       "444    21.515380\n",
       "445    21.168112\n",
       "Name: flipkart_offer, Length: 446, dtype: float64"
      ]
     },
     "execution_count": 7,
     "metadata": {},
     "output_type": "execute_result"
    }
   ],
   "source": [
    "a=np.log(np.square(df['flipkart_offer']))\n",
    "a"
   ]
  },
  {
   "cell_type": "code",
   "execution_count": 8,
   "id": "40cfec4e",
   "metadata": {},
   "outputs": [],
   "source": [
    "x=df.drop(columns=['flipkart_offer'])\n",
    "y=np.log(np.square(df['flipkart_offer']))"
   ]
  },
  {
   "cell_type": "code",
   "execution_count": 9,
   "id": "6e204656",
   "metadata": {},
   "outputs": [
    {
     "data": {
      "text/html": [
       "<div>\n",
       "<style scoped>\n",
       "    .dataframe tbody tr th:only-of-type {\n",
       "        vertical-align: middle;\n",
       "    }\n",
       "\n",
       "    .dataframe tbody tr th {\n",
       "        vertical-align: top;\n",
       "    }\n",
       "\n",
       "    .dataframe thead th {\n",
       "        text-align: right;\n",
       "    }\n",
       "</style>\n",
       "<table border=\"1\" class=\"dataframe\">\n",
       "  <thead>\n",
       "    <tr style=\"text-align: right;\">\n",
       "      <th></th>\n",
       "      <th>ProductName</th>\n",
       "      <th>stars</th>\n",
       "      <th>CPU</th>\n",
       "      <th>Ram</th>\n",
       "      <th>storage</th>\n",
       "      <th>size</th>\n",
       "      <th>actual_price</th>\n",
       "      <th>flipkart_offer</th>\n",
       "    </tr>\n",
       "  </thead>\n",
       "  <tbody>\n",
       "    <tr>\n",
       "      <th>0</th>\n",
       "      <td>ASUS</td>\n",
       "      <td>4.2</td>\n",
       "      <td>Celeron</td>\n",
       "      <td>4</td>\n",
       "      <td>128</td>\n",
       "      <td>29.46</td>\n",
       "      <td>30990</td>\n",
       "      <td>20990</td>\n",
       "    </tr>\n",
       "    <tr>\n",
       "      <th>1</th>\n",
       "      <td>ASUS</td>\n",
       "      <td>3.6</td>\n",
       "      <td>i3</td>\n",
       "      <td>8</td>\n",
       "      <td>512</td>\n",
       "      <td>39.62</td>\n",
       "      <td>51990</td>\n",
       "      <td>38236</td>\n",
       "    </tr>\n",
       "    <tr>\n",
       "      <th>2</th>\n",
       "      <td>ASUS</td>\n",
       "      <td>4.2</td>\n",
       "      <td>i3</td>\n",
       "      <td>8</td>\n",
       "      <td>512</td>\n",
       "      <td>39.62</td>\n",
       "      <td>56990</td>\n",
       "      <td>34990</td>\n",
       "    </tr>\n",
       "  </tbody>\n",
       "</table>\n",
       "</div>"
      ],
      "text/plain": [
       "  ProductName  stars      CPU  Ram  storage   size  actual_price  \\\n",
       "0        ASUS    4.2  Celeron    4      128  29.46         30990   \n",
       "1        ASUS    3.6       i3    8      512  39.62         51990   \n",
       "2        ASUS    4.2       i3    8      512  39.62         56990   \n",
       "\n",
       "   flipkart_offer  \n",
       "0           20990  \n",
       "1           38236  \n",
       "2           34990  "
      ]
     },
     "execution_count": 9,
     "metadata": {},
     "output_type": "execute_result"
    }
   ],
   "source": [
    "df.head(3)"
   ]
  },
  {
   "cell_type": "markdown",
   "id": "e1517631",
   "metadata": {},
   "source": [
    "## train_test_split"
   ]
  },
  {
   "cell_type": "code",
   "execution_count": 10,
   "id": "1e30455a",
   "metadata": {},
   "outputs": [],
   "source": [
    "from sklearn.model_selection import train_test_split"
   ]
  },
  {
   "cell_type": "code",
   "execution_count": 11,
   "id": "8984291f",
   "metadata": {},
   "outputs": [],
   "source": [
    "x_train,x_test,y_train,y_test =train_test_split(x,y,test_size=0.15,\n",
    "                                               random_state=2)"
   ]
  },
  {
   "cell_type": "code",
   "execution_count": 12,
   "id": "fc0bd954",
   "metadata": {},
   "outputs": [
    {
     "data": {
      "text/plain": [
       "ProductName      object\n",
       "stars           float64\n",
       "CPU              object\n",
       "Ram               int64\n",
       "storage           int64\n",
       "size            float64\n",
       "actual_price      int64\n",
       "dtype: object"
      ]
     },
     "execution_count": 12,
     "metadata": {},
     "output_type": "execute_result"
    }
   ],
   "source": [
    "x_train.dtypes"
   ]
  },
  {
   "cell_type": "markdown",
   "id": "f0584aff",
   "metadata": {},
   "source": [
    "# categorical data"
   ]
  },
  {
   "cell_type": "markdown",
   "id": "01356b24",
   "metadata": {},
   "source": [
    "## linear regression"
   ]
  },
  {
   "cell_type": "code",
   "execution_count": 13,
   "id": "f3b46921",
   "metadata": {},
   "outputs": [],
   "source": [
    "from sklearn.linear_model import LogisticRegression,LinearRegression\n",
    "from sklearn.compose import ColumnTransformer\n",
    "from sklearn.pipeline import Pipeline\n",
    "from sklearn.preprocessing import OneHotEncoder\n",
    "from sklearn.metrics import r2_score,mean_absolute_error"
   ]
  },
  {
   "cell_type": "code",
   "execution_count": 14,
   "id": "12c4a853",
   "metadata": {},
   "outputs": [
    {
     "name": "stdout",
     "output_type": "stream",
     "text": [
      "R2_SCORE: 0.8374727260429184\n",
      "MAE: 0.13897279133773058\n"
     ]
    }
   ],
   "source": [
    "\n",
    "\n",
    "step1=ColumnTransformer(transformers=[\n",
    "    ('col_tnf',OneHotEncoder(sparse=False,drop='first'),['ProductName','CPU'])\n",
    "],remainder='passthrough')\n",
    "\n",
    "step2 =LinearRegression()\n",
    "\n",
    "pipe = Pipeline([\n",
    "    ('step1',step1),\n",
    "    ('step2',step2)\n",
    "])\n",
    "\n",
    "pipe.fit(x_train,y_train)\n",
    "\n",
    "y_pred =pipe.predict(x_test)\n",
    "\n",
    "\n",
    "print('R2_SCORE:',r2_score(y_test,y_pred))\n",
    "print('MAE:',mean_absolute_error(y_test,y_pred))"
   ]
  },
  {
   "cell_type": "code",
   "execution_count": 15,
   "id": "a3819b6b",
   "metadata": {},
   "outputs": [
    {
     "data": {
      "text/plain": [
       "1.1388283833246218"
      ]
     },
     "execution_count": 15,
     "metadata": {},
     "output_type": "execute_result"
    }
   ],
   "source": [
    "np.exp(0.13)"
   ]
  },
  {
   "cell_type": "markdown",
   "id": "a2a4c039",
   "metadata": {},
   "source": [
    "## Ridge Regression"
   ]
  },
  {
   "cell_type": "code",
   "execution_count": 16,
   "id": "2a20f6b8",
   "metadata": {},
   "outputs": [],
   "source": [
    "from sklearn.linear_model import Ridge,Lasso"
   ]
  },
  {
   "cell_type": "code",
   "execution_count": 17,
   "id": "e8afc653",
   "metadata": {},
   "outputs": [
    {
     "name": "stdout",
     "output_type": "stream",
     "text": [
      "R2_SCORE: 0.838712907772702\n",
      "MAE: 0.15029514991866746\n"
     ]
    }
   ],
   "source": [
    "step1=ColumnTransformer(transformers=[\n",
    "    ('col_tnf',OneHotEncoder(sparse=False,drop='first'),['ProductName','CPU'])\n",
    "],remainder='passthrough')\n",
    "\n",
    "step2 =Ridge(alpha=10)\n",
    "\n",
    "pipe = Pipeline([\n",
    "    ('step1',step1),\n",
    "    ('step2',step2)\n",
    "])\n",
    "\n",
    "pipe.fit(x_train,y_train)\n",
    "\n",
    "y_pred =pipe.predict(x_test)\n",
    "\n",
    "print('R2_SCORE:',r2_score(y_test,y_pred))\n",
    "print('MAE:',mean_absolute_error(y_test,y_pred))"
   ]
  },
  {
   "cell_type": "markdown",
   "id": "e3b058a4",
   "metadata": {},
   "source": [
    "## LASO REGRESION  has second best in r2_score"
   ]
  },
  {
   "cell_type": "code",
   "execution_count": 18,
   "id": "2fe708b4",
   "metadata": {},
   "outputs": [
    {
     "name": "stdout",
     "output_type": "stream",
     "text": [
      "R2_SCORE: 0.838712907772702\n",
      "MAE: 0.15029514991866746\n"
     ]
    }
   ],
   "source": [
    "step1=ColumnTransformer(transformers=[\n",
    "    ('col_tnf',OneHotEncoder(sparse=False,drop='first'),['ProductName','CPU'])\n",
    "],remainder='passthrough')\n",
    "\n",
    "step2 = Lasso(alpha=0.001)\n",
    "\n",
    "pipe_laso = Pipeline([\n",
    "    ('step1',step1),\n",
    "    ('step2',step2)\n",
    "])\n",
    "\n",
    "pipe_laso.fit(x_train,y_train)\n",
    "\n",
    "y_pred =pipe_laso.predict(x_test)\n",
    "\n",
    "print('R2_SCORE:',r2_score(y_test,y_pred))\n",
    "print('MAE:',mean_absolute_error(y_test,y_pred))"
   ]
  },
  {
   "cell_type": "markdown",
   "id": "a5bd3157",
   "metadata": {},
   "source": [
    "## kNN"
   ]
  },
  {
   "cell_type": "code",
   "execution_count": 19,
   "id": "63d4549f",
   "metadata": {},
   "outputs": [],
   "source": [
    "from sklearn.neighbors import KNeighborsRegressor"
   ]
  },
  {
   "cell_type": "code",
   "execution_count": 20,
   "id": "8be37453",
   "metadata": {},
   "outputs": [
    {
     "name": "stdout",
     "output_type": "stream",
     "text": [
      "R2_SCORE: 0.812432312349145\n",
      "MAE: 0.1452882702740753\n"
     ]
    }
   ],
   "source": [
    "step1=ColumnTransformer(transformers=[\n",
    "    ('col_tnf',OneHotEncoder(sparse=False,drop='first'),['ProductName','CPU'])\n",
    "],remainder='passthrough')\n",
    "\n",
    "step2 =  KNeighborsRegressor(n_neighbors=5)\n",
    "\n",
    "\n",
    "pipe = Pipeline([\n",
    "    ('step1',step1),\n",
    "    ('step2',step2)\n",
    "])\n",
    "\n",
    "pipe.fit(x_train,y_train)\n",
    "\n",
    "y_pred =pipe.predict(x_test)\n",
    "\n",
    "print('R2_SCORE:',r2_score(y_test,y_pred))\n",
    "print('MAE:',mean_absolute_error(y_test,y_pred))"
   ]
  },
  {
   "cell_type": "markdown",
   "id": "b0d8530c",
   "metadata": {},
   "source": [
    "## DECISION TREE"
   ]
  },
  {
   "cell_type": "code",
   "execution_count": 21,
   "id": "472cf3ff",
   "metadata": {},
   "outputs": [],
   "source": [
    "from sklearn.tree import DecisionTreeRegressor\n"
   ]
  },
  {
   "cell_type": "code",
   "execution_count": 22,
   "id": "e43ef992",
   "metadata": {},
   "outputs": [
    {
     "name": "stdout",
     "output_type": "stream",
     "text": [
      "R2 score 0.866444312596794\n",
      "MAE 0.10072346235576014\n"
     ]
    }
   ],
   "source": [
    "step1 = ColumnTransformer(transformers=[\n",
    "    ('col_tnf',OneHotEncoder(sparse=False,drop='first'),['ProductName','CPU'])\n",
    "],remainder='passthrough')\n",
    "\n",
    "step2 = DecisionTreeRegressor(max_depth=8)\n",
    "\n",
    "pipe = Pipeline([\n",
    "    ('step1',step1),\n",
    "    ('step2',step2)\n",
    "])\n",
    "\n",
    "pipe.fit(x_train,y_train)\n",
    "\n",
    "y_pred = pipe.predict(x_test)\n",
    "\n",
    "print('R2 score',r2_score(y_test,y_pred))\n",
    "print('MAE',mean_absolute_error(y_test,y_pred))"
   ]
  },
  {
   "cell_type": "markdown",
   "id": "a4d0173e",
   "metadata": {},
   "source": [
    "## Random forest till now show best case "
   ]
  },
  {
   "cell_type": "code",
   "execution_count": 23,
   "id": "cb4ff104",
   "metadata": {},
   "outputs": [],
   "source": [
    "from sklearn.ensemble import RandomForestRegressor"
   ]
  },
  {
   "cell_type": "code",
   "execution_count": 24,
   "id": "267e65c3",
   "metadata": {},
   "outputs": [
    {
     "name": "stdout",
     "output_type": "stream",
     "text": [
      "R2 score 0.9076497060891238\n",
      "MAE 0.09094334260854199\n"
     ]
    }
   ],
   "source": [
    "step1 = ColumnTransformer([\n",
    "    ('col_tnf',OneHotEncoder(sparse=False,drop='first'),['ProductName','CPU'])\n",
    "],remainder='passthrough')\n",
    "\n",
    "step2 = RandomForestRegressor(n_estimators=100,\n",
    "                              random_state=3,\n",
    "                              max_samples=0.5,\n",
    "                              max_features=0.75,\n",
    "                              max_depth=15)\n",
    "\n",
    "pipe_1 = Pipeline(steps=[\n",
    "    ('step1',step1),\n",
    "    ('step2',step2)\n",
    "])\n",
    "\n",
    "pipe_1.fit(x_train,y_train)\n",
    "\n",
    "y_pred = pipe_1.predict(x_test)\n",
    "\n",
    "print('R2 score',r2_score(y_test,y_pred))\n",
    "print('MAE',mean_absolute_error(y_test,y_pred))"
   ]
  },
  {
   "cell_type": "code",
   "execution_count": 25,
   "id": "ca00e27a",
   "metadata": {},
   "outputs": [
    {
     "data": {
      "text/html": [
       "<div>\n",
       "<style scoped>\n",
       "    .dataframe tbody tr th:only-of-type {\n",
       "        vertical-align: middle;\n",
       "    }\n",
       "\n",
       "    .dataframe tbody tr th {\n",
       "        vertical-align: top;\n",
       "    }\n",
       "\n",
       "    .dataframe thead th {\n",
       "        text-align: right;\n",
       "    }\n",
       "</style>\n",
       "<table border=\"1\" class=\"dataframe\">\n",
       "  <thead>\n",
       "    <tr style=\"text-align: right;\">\n",
       "      <th></th>\n",
       "      <th>ProductName</th>\n",
       "      <th>stars</th>\n",
       "      <th>CPU</th>\n",
       "      <th>Ram</th>\n",
       "      <th>storage</th>\n",
       "      <th>size</th>\n",
       "      <th>actual_price</th>\n",
       "      <th>flipkart_offer</th>\n",
       "    </tr>\n",
       "  </thead>\n",
       "  <tbody>\n",
       "    <tr>\n",
       "      <th>0</th>\n",
       "      <td>ASUS</td>\n",
       "      <td>4.2</td>\n",
       "      <td>Celeron</td>\n",
       "      <td>4</td>\n",
       "      <td>128</td>\n",
       "      <td>29.46</td>\n",
       "      <td>30990</td>\n",
       "      <td>20990</td>\n",
       "    </tr>\n",
       "  </tbody>\n",
       "</table>\n",
       "</div>"
      ],
      "text/plain": [
       "  ProductName  stars      CPU  Ram  storage   size  actual_price  \\\n",
       "0        ASUS    4.2  Celeron    4      128  29.46         30990   \n",
       "\n",
       "   flipkart_offer  \n",
       "0           20990  "
      ]
     },
     "execution_count": 25,
     "metadata": {},
     "output_type": "execute_result"
    }
   ],
   "source": [
    "df.head(1)"
   ]
  },
  {
   "cell_type": "markdown",
   "id": "9425056d",
   "metadata": {},
   "source": [
    "# expoting models"
   ]
  },
  {
   "cell_type": "code",
   "execution_count": 38,
   "id": "beea0563",
   "metadata": {},
   "outputs": [],
   "source": [
    "import pickle\n",
    "\n",
    "pickle.dump(df,open('df.pkl','wb'))\n",
    "pickle.dump(pipe_1,open('pipe_1.pkl','wb'))"
   ]
  },
  {
   "cell_type": "code",
   "execution_count": 27,
   "id": "ff83e608",
   "metadata": {},
   "outputs": [
    {
     "data": {
      "text/plain": [
       "ProductName      object\n",
       "stars           float64\n",
       "CPU              object\n",
       "Ram               int64\n",
       "storage           int64\n",
       "size            float64\n",
       "actual_price      int64\n",
       "dtype: object"
      ]
     },
     "execution_count": 27,
     "metadata": {},
     "output_type": "execute_result"
    }
   ],
   "source": [
    "x_train.dtypes"
   ]
  },
  {
   "cell_type": "code",
   "execution_count": 36,
   "id": "87c8889d",
   "metadata": {},
   "outputs": [
    {
     "data": {
      "text/html": [
       "<div>\n",
       "<style scoped>\n",
       "    .dataframe tbody tr th:only-of-type {\n",
       "        vertical-align: middle;\n",
       "    }\n",
       "\n",
       "    .dataframe tbody tr th {\n",
       "        vertical-align: top;\n",
       "    }\n",
       "\n",
       "    .dataframe thead th {\n",
       "        text-align: right;\n",
       "    }\n",
       "</style>\n",
       "<table border=\"1\" class=\"dataframe\">\n",
       "  <thead>\n",
       "    <tr style=\"text-align: right;\">\n",
       "      <th></th>\n",
       "      <th>ProductName</th>\n",
       "      <th>stars</th>\n",
       "      <th>CPU</th>\n",
       "      <th>Ram</th>\n",
       "      <th>storage</th>\n",
       "      <th>size</th>\n",
       "      <th>actual_price</th>\n",
       "      <th>flipkart_offer</th>\n",
       "    </tr>\n",
       "  </thead>\n",
       "  <tbody>\n",
       "    <tr>\n",
       "      <th>0</th>\n",
       "      <td>ASUS</td>\n",
       "      <td>4.2</td>\n",
       "      <td>Celeron</td>\n",
       "      <td>4</td>\n",
       "      <td>128</td>\n",
       "      <td>29.46</td>\n",
       "      <td>30990</td>\n",
       "      <td>20990</td>\n",
       "    </tr>\n",
       "    <tr>\n",
       "      <th>1</th>\n",
       "      <td>ASUS</td>\n",
       "      <td>3.6</td>\n",
       "      <td>i3</td>\n",
       "      <td>8</td>\n",
       "      <td>512</td>\n",
       "      <td>39.62</td>\n",
       "      <td>51990</td>\n",
       "      <td>38236</td>\n",
       "    </tr>\n",
       "    <tr>\n",
       "      <th>2</th>\n",
       "      <td>ASUS</td>\n",
       "      <td>4.2</td>\n",
       "      <td>i3</td>\n",
       "      <td>8</td>\n",
       "      <td>512</td>\n",
       "      <td>39.62</td>\n",
       "      <td>56990</td>\n",
       "      <td>34990</td>\n",
       "    </tr>\n",
       "    <tr>\n",
       "      <th>3</th>\n",
       "      <td>Lenovo</td>\n",
       "      <td>4.1</td>\n",
       "      <td>Celeron</td>\n",
       "      <td>8</td>\n",
       "      <td>256</td>\n",
       "      <td>39.62</td>\n",
       "      <td>46090</td>\n",
       "      <td>26989</td>\n",
       "    </tr>\n",
       "  </tbody>\n",
       "</table>\n",
       "</div>"
      ],
      "text/plain": [
       "  ProductName  stars      CPU  Ram  storage   size  actual_price  \\\n",
       "0        ASUS    4.2  Celeron    4      128  29.46         30990   \n",
       "1        ASUS    3.6       i3    8      512  39.62         51990   \n",
       "2        ASUS    4.2       i3    8      512  39.62         56990   \n",
       "3      Lenovo    4.1  Celeron    8      256  39.62         46090   \n",
       "\n",
       "   flipkart_offer  \n",
       "0           20990  \n",
       "1           38236  \n",
       "2           34990  \n",
       "3           26989  "
      ]
     },
     "execution_count": 36,
     "metadata": {},
     "output_type": "execute_result"
    }
   ],
   "source": [
    "df.head(4)"
   ]
  },
  {
   "cell_type": "code",
   "execution_count": null,
   "id": "2707d4bc",
   "metadata": {},
   "outputs": [],
   "source": []
  }
 ],
 "metadata": {
  "kernelspec": {
   "display_name": "Python 3 (ipykernel)",
   "language": "python",
   "name": "python3"
  },
  "language_info": {
   "codemirror_mode": {
    "name": "ipython",
    "version": 3
   },
   "file_extension": ".py",
   "mimetype": "text/x-python",
   "name": "python",
   "nbconvert_exporter": "python",
   "pygments_lexer": "ipython3",
   "version": "3.9.16"
  }
 },
 "nbformat": 4,
 "nbformat_minor": 5
}
